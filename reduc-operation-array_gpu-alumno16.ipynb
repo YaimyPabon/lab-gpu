{
 "cells": [
  {
   "cell_type": "markdown",
   "id": "f942d288-be01-42cd-9b84-83529c6769be",
   "metadata": {},
   "source": [
    "## Reduction operation: the sum of the numbers in the range [0, value)"
   ]
  },
  {
   "cell_type": "code",
   "execution_count": 5,
   "id": "496946fa-2a28-4c1d-8a6a-2ee0b8fd8ced",
   "metadata": {},
   "outputs": [
    {
     "name": "stdout",
     "output_type": "stream",
     "text": [
      "Time taken by reduction operation using a function: 5.27 ms ± 202 µs per loop (mean ± std. dev. of 2 runs, 100 loops each)\n",
      "And the result of the sum of numbers in the range [0, value) is: 25010.449831532787\n",
      "\n",
      "Time taken by reduction operation using numpy.sum(): 14.9 µs ± 2.99 ns per loop (mean ± std. dev. of 2 runs, 100,000 loops each)\n",
      "Now, the result using numpy.sum(): 25010.449831532696 \n",
      " \n",
      "Time taken by reduction operation using numpy.ndarray.sum(): 12.8 µs ± 19.8 ns per loop (mean ± std. dev. of 2 runs, 100,000 loops each)\n",
      "Now, the result using numpy.ndarray.sum(): 25010.449831532696\n"
     ]
    }
   ],
   "source": [
    "import numpy as np\n",
    "\n",
    "def reduc_operation(A):\n",
    "    \"\"\"Compute the sum of the elements of Array A in the range [0, value).\"\"\"\n",
    "    s = 0\n",
    "    for i in range(A.size):\n",
    "        s += A[i]\n",
    "    return s\n",
    "\n",
    "# Secuencial\n",
    "\n",
    "value = 5*10**4\n",
    "\n",
    "X = np.random.rand(value)\n",
    "\n",
    "# Para imprimir los pimeros valores del array\n",
    "\n",
    "# print(X[0:12])\n",
    "\n",
    "# Utilizando las operaciones mágicas de ipython\n",
    "\n",
    "tiempo = %timeit -r 2 -o -q reduc_operation(X)\n",
    "\n",
    "print(\"Time taken by reduction operation using a function:\", tiempo)\n",
    "\n",
    "\n",
    "print(f\"And the result of the sum of numbers in the range [0, value) is: {reduc_operation(X)}\\n\")\n",
    "\n",
    "\n",
    "# Utilizando numpy.sum()\n",
    "\n",
    "tiempo = %timeit -r 2 -o -q np.sum(X)\n",
    "\n",
    "print(\"Time taken by reduction operation using numpy.sum():\", tiempo)\n",
    "\n",
    "print(\"Now, the result using numpy.sum():\", np.sum(X),\"\\n \")\n",
    "\n",
    "\n",
    "# Utilizando numpy.ndarray.sum()\n",
    "\n",
    "tiempo= %timeit -r 2 -o -q X.sum()\n",
    "\n",
    "print(\"Time taken by reduction operation using numpy.ndarray.sum():\", tiempo)\n",
    "\n",
    "print(\"Now, the result using numpy.ndarray.sum():\", X.sum())\n",
    "\n",
    "\n"
   ]
  },
  {
   "cell_type": "markdown",
   "id": "1c9a274f-f3a6-412b-916d-bd9254d34e3a",
   "metadata": {},
   "source": [
    "3.3a) LIBRERIA CUPY"
   ]
  },
  {
   "cell_type": "code",
   "execution_count": 6,
   "id": "eff77a76-d98a-45c4-8bae-e0edbe4c4216",
   "metadata": {},
   "outputs": [
    {
     "name": "stdout",
     "output_type": "stream",
     "text": [
      "Time taken by reduction operation using cupy.sum(): 17.9 µs ± 51.6 ns per loop (mean ± std. dev. of 2 runs, 100,000 loops each)\n",
      "Result of the sum using cupy.sum(): 25107.20226476049 \n",
      "\n",
      "Time taken by reduction operation using cupy.ndarray.sum(): 17 µs ± 51.1 ns per loop (mean ± std. dev. of 2 runs, 100,000 loops each)\n",
      "Result of the sum using cupy.ndarray.sum(): 25107.20226476049\n"
     ]
    }
   ],
   "source": [
    "import cupy as cp  # Importamos CuPy\n",
    "\n",
    "def reduc_operation(A):\n",
    "    \"\"\"Compute the sum of the elements of Array A in the range [0, value).\"\"\"\n",
    "    s = 0\n",
    "    for i in range(A.size):\n",
    "        s += A[i]\n",
    "    return s\n",
    "\n",
    "# Configuración inicial\n",
    "value = 5 * 10**4  # Tamaño del array\n",
    "\n",
    "# Crear el array directamente en la GPU utilizando cupy.random.rand\n",
    "X_gpu = cp.random.rand(value)\n",
    "\n",
    "# Para imprimir los primeros valores del array (traspasándolos a la CPU con .get())\n",
    "# print(cp.asnumpy(X_gpu[:12]))  # Convierte a un array de NumPy para imprimirlo\n",
    "\n",
    "# Reducir operación en la GPU con cupy.sum()\n",
    "tiempo = %timeit -r 2 -o -q cp.sum(X_gpu)\n",
    "\n",
    "print(\"Time taken by reduction operation using cupy.sum():\", tiempo)\n",
    "print(\"Result of the sum using cupy.sum():\", cp.sum(X_gpu), \"\\n\")\n",
    "\n",
    "# Alternativamente, usar el método .sum() del array creado por CuPy \n",
    "tiempo = %timeit -r 2 -o -q X_gpu.sum()\n",
    "\n",
    "print(\"Time taken by reduction operation using cupy.ndarray.sum():\", tiempo)\n",
    "print(\"Result of the sum using cupy.ndarray.sum():\", X_gpu.sum())\n"
   ]
  },
  {
   "cell_type": "markdown",
   "id": "ba0909d6-fdf7-47ac-9316-612157824e09",
   "metadata": {},
   "source": [
    "3.3 b)LIBRERIA NUMBA"
   ]
  },
  {
   "cell_type": "code",
   "execution_count": 7,
   "id": "6eb74ca6-4260-4650-803c-2b492174321f",
   "metadata": {},
   "outputs": [
    {
     "name": "stdout",
     "output_type": "stream",
     "text": [
      "Result of reduction using Numba (GPU): 25051.210227551637\n",
      "\n",
      "Time taken by reduction operation using Numba (GPU): 84.8 µs ± 0.243 ns per loop (mean ± std. dev. of 2 runs, 10,000 loops each)\n"
     ]
    }
   ],
   "source": [
    "import numpy as np\n",
    "import numba\n",
    "from numba import cuda\n",
    "\n",
    "# Función de reducción para la GPU utilizando numba\n",
    "@cuda.jit\n",
    "def reduc_operation_gpu(arr, result):\n",
    "    \"\"\"Compute the sum of elements in arr and store the result in result.\"\"\"\n",
    "    idx = cuda.grid(1)  # Obtiene el índice único para cada hilo\n",
    "\n",
    "    if idx < arr.size:\n",
    "        # Cada hilo realiza la suma parcial\n",
    "        cuda.atomic.add(result, 0, arr[idx])\n",
    "\n",
    "# Secuencial\n",
    "\n",
    "value = 5 * 10**4\n",
    "\n",
    "# Crear el array en la CPU (esto puede transferirse a la GPU si lo deseas)\n",
    "X = np.random.rand(value)\n",
    "\n",
    "# Transferir el array de NumPy a la GPU\n",
    "X_gpu = cuda.to_device(X)\n",
    "\n",
    "# Crear un array para almacenar el resultado en la GPU\n",
    "result_gpu = cuda.to_device(np.array([0.0]))  # Inicializa el resultado en 0.0\n",
    "\n",
    "# Llamar a la función de reducción en la GPU\n",
    "threads_per_block = 256\n",
    "blocks_per_grid = (X_gpu.size + (threads_per_block - 1)) // threads_per_block\n",
    "\n",
    "# Lanzar el kernel\n",
    "reduc_operation_gpu[blocks_per_grid, threads_per_block](X_gpu, result_gpu)\n",
    "\n",
    "# Transferir el resultado de la GPU a la CPU\n",
    "result = result_gpu.copy_to_host()[0]\n",
    "\n",
    "print(f\"Result of reduction using Numba (GPU): {result}\\n\")\n",
    "\n",
    "# Utilizando %timeit para medir el tiempo de ejecución de la operación\n",
    "tiempo = %timeit -r 2 -o -q reduc_operation_gpu[blocks_per_grid, threads_per_block](X_gpu, result_gpu)\n",
    "print(f\"Time taken by reduction operation using Numba (GPU): {tiempo}\")\n"
   ]
  },
  {
   "cell_type": "markdown",
   "id": "2052af9a-9fc8-4652-aa5a-d4d0c92cd6b8",
   "metadata": {},
   "source": [
    "3.3 c) Lánzalo con el valor de 5 ∗ 10**6, 5 ∗ 10**7 y 5 ∗ 10**8 elementos; los datos de la salida."
   ]
  },
  {
   "cell_type": "markdown",
   "id": "39ac3bdb-aa2c-4711-9c59-ef9a1249878e",
   "metadata": {},
   "source": [
    "Ejecutando con 5000000 elementos\n",
    "Time taken by reduction operation using a function: 2.61 ms ± 11.1 µs per loop (mean ± std. dev. of 2 runs, 100 loops each)\n",
    "And the result of the sum of numbers in the range [0, value) is: 24970.76122879585\n",
    "\n",
    "Time taken by reduction operation using numpy.sum(): 7.7 µs ± 0.53 ns per loop (mean ± std. dev. of 2 runs, 100,000 loops each)\n",
    "Now, the result using numpy.sum(): 24970.761228796026 \n",
    " \n",
    "Time taken by reduction operation using numpy.ndarray.sum(): 6.94 µs ± 4.63 ns per loop (mean ± std. dev. of 2 runs, 100,000 loops each)\n",
    "Now, the result using numpy.ndarray.sum(): 24970.761228796026\n",
    "Time taken by reduction operation using cupy.sum(): 25.8 µs ± 15.5 µs per loop (mean ± std. dev. of 2 runs, 1 loop each)\n",
    "Result of the sum using cupy.sum(): 24996.494543374458 \n",
    "\n",
    "Time taken by reduction operation using cupy.ndarray.sum(): 6.04 µs ± 4.54 ns per loop (mean ± std. dev. of 2 runs, 100,000 loops each)\n",
    "Result of the sum using cupy.ndarray.sum(): 24996.494543374458\n",
    "Result of reduction using Numba (GPU): 24911.578116681303\n",
    "\n",
    "Time taken by reduction operation using Numba (GPU): 81.8 µs ± 8.71 ns per loop (mean ± std. dev. of 2 runs, 10,000 loops each)\n",
    "\n",
    "\n",
    "\n",
    "Ejecutando con 50000000 elementos\n",
    "Time taken by reduction operation using a function: 2.62 ms ± 722 ns per loop (mean ± std. dev. of 2 runs, 100 loops each)\n",
    "And the result of the sum of numbers in the range [0, value) is: 25078.57857486828\n",
    "\n",
    "Time taken by reduction operation using numpy.sum(): 7.91 µs ± 0.695 ns per loop (mean ± std. dev. of 2 runs, 100,000 loops each)\n",
    "Now, the result using numpy.sum(): 25078.57857486829 \n",
    " \n",
    "Time taken by reduction operation using numpy.ndarray.sum(): 7.14 µs ± 11 ns per loop (mean ± std. dev. of 2 runs, 100,000 loops each)\n",
    "Now, the result using numpy.ndarray.sum(): 25078.57857486829\n",
    "Time taken by reduction operation using cupy.sum(): 6.2 µs ± 1.07 ns per loop (mean ± std. dev. of 2 runs, 100,000 loops each)\n",
    "Result of the sum using cupy.sum(): 24943.07510200829 \n",
    "\n",
    "Time taken by reduction operation using cupy.ndarray.sum(): 6.01 µs ± 1.72 ns per loop (mean ± std. dev. of 2 runs, 100,000 loops each)\n",
    "Result of the sum using cupy.ndarray.sum(): 24943.07510200829\n",
    "Result of reduction using Numba (GPU): 25060.09478794771\n",
    "\n",
    "Time taken by reduction operation using Numba (GPU): 82.5 µs ± 0.826 ns per loop (mean ± std. dev. of 2 runs, 10,000 loops each)\n",
    "\n",
    "\n",
    "\n",
    "\n",
    "Ejecutando con 500000000 elementos\n",
    "Time taken by reduction operation using a function: 2.62 ms ± 1.08 µs per loop (mean ± std. dev. of 2 runs, 100 loops each)\n",
    "And the result of the sum of numbers in the range [0, value) is: 25020.25675150178\n",
    "\n",
    "Time taken by reduction operation using numpy.sum(): 7.76 µs ± 0.0628 ns per loop (mean ± std. dev. of 2 runs, 100,000 loops each)\n",
    "Now, the result using numpy.sum(): 25020.25675150158 \n",
    " \n",
    "Time taken by reduction operation using numpy.ndarray.sum(): 6.97 µs ± 1.3 ns per loop (mean ± std. dev. of 2 runs, 100,000 loops each)\n",
    "Now, the result using numpy.ndarray.sum(): 25020.25675150158\n",
    "Time taken by reduction operation using cupy.sum(): 6.17 µs ± 1.92 ns per loop (mean ± std. dev. of 2 runs, 100,000 loops each)\n",
    "Result of the sum using cupy.sum(): 25077.323703846654 \n",
    "\n",
    "Time taken by reduction operation using cupy.ndarray.sum(): 5.94 µs ± 0.357 ns per loop (mean ± std. dev. of 2 runs, 100,000 loops each)\n",
    "Result of the sum using cupy.ndarray.sum(): 25077.323703846654\n",
    "Result of reduction using Numba (GPU): 25123.77668474764\n",
    "\n",
    "Time taken by reduction operation using Numba (GPU): 82.5 µs ± 0.262 ns per loop (mean ± std. dev. of 2 runs, 10,000 loops each)\n"
   ]
  },
  {
   "cell_type": "markdown",
   "id": "07b2299a-545a-4759-bacc-7e603f6f6025",
   "metadata": {},
   "source": [
    "3.3d) Para arrays pequeños o medianos (como 5*10** 4 o 5*10** 6), la CPU con herramientas como NumPy sigue siendo la opción más rápida debido a la baja sobrecarga y la optimización interna de estas herramientas.\n",
    "Para arrays grandes (más allá de los 5*10** 7 elementos), haciendo uso de una GPU con CuPy o Numba empieza a mostrar su verdadera capacidad gracias al paralelismo masivo. Aunque la transferencia de datos y la inicialización de la GPU son factores a tener en cuenta, estos son rápidamente compensados en problemas más grandes.\n"
   ]
  }
 ],
 "metadata": {
  "kernelspec": {
   "display_name": "Python 3 (ipykernel)",
   "language": "python",
   "name": "python3"
  },
  "language_info": {
   "codemirror_mode": {
    "name": "ipython",
    "version": 3
   },
   "file_extension": ".py",
   "mimetype": "text/x-python",
   "name": "python",
   "nbconvert_exporter": "python",
   "pygments_lexer": "ipython3",
   "version": "3.8.17"
  }
 },
 "nbformat": 4,
 "nbformat_minor": 5
}
